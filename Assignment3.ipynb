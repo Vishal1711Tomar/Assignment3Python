{
 "cells": [
  {
   "cell_type": "code",
   "execution_count": 1,
   "id": "e419c751-ce37-4623-a828-3fa9e7ab5661",
   "metadata": {},
   "outputs": [
    {
     "name": "stdin",
     "output_type": "stream",
     "text": [
      "Enter Number whose factorial is to be calculated :  5\n"
     ]
    },
    {
     "name": "stdout",
     "output_type": "stream",
     "text": [
      " Factorial of 5 is 120\n"
     ]
    }
   ],
   "source": [
    "def factorial ( m) :\n",
    "    if(m<0):\n",
    "        return (\" not possible as Negative number don't have Factorials \")\n",
    "    elif ( m < 2):\n",
    "        return 1\n",
    "    else:\n",
    "        return m* factorial(m-1)\n",
    "n = int(input(\"Enter Number whose factorial is to be calculated : \"))\n",
    "print(f\" Factorial of {n} is {factorial(n)}\")\n"
   ]
  },
  {
   "cell_type": "code",
   "execution_count": 2,
   "id": "34e82b66-53e1-4d9d-95c8-b9ea44acffb4",
   "metadata": {},
   "outputs": [
    {
     "name": "stdin",
     "output_type": "stream",
     "text": [
      "Enter Number whose factorial is to be calculated :  -1\n"
     ]
    },
    {
     "name": "stdout",
     "output_type": "stream",
     "text": [
      " Factorial of -1 is  not possible as Negative number don't have Factorials \n"
     ]
    }
   ],
   "source": [
    "def factorial ( m) :\n",
    "    if(m<0):\n",
    "        return (\" not possible as Negative number don't have Factorials \")\n",
    "    elif ( m < 2):\n",
    "        return 1\n",
    "    else:\n",
    "        return m* factorial(m-1)\n",
    "n = int(input(\"Enter Number whose factorial is to be calculated : \"))\n",
    "print(f\" Factorial of {n} is {factorial(n)}\")\n"
   ]
  },
  {
   "cell_type": "code",
   "execution_count": 4,
   "id": "68c8abef-2d57-49bb-98ba-4d2d18f0d75a",
   "metadata": {},
   "outputs": [
    {
     "name": "stdin",
     "output_type": "stream",
     "text": [
      "Enter Your Number 25\n"
     ]
    },
    {
     "name": "stdout",
     "output_type": "stream",
     "text": [
      " Square Root : 5.0\n",
      " Log(natural) : 3.2188758248682006\n",
      " Sin(radian) : -0.13235175009777303\n"
     ]
    }
   ],
   "source": [
    "from math import *\n",
    "n = int(input(\"Enter Your Number\"))\n",
    "print(f\" Square Root : {sqrt(n)}\\n Log(natural) : {log(n)}\\n Sin(radian) : {sin(n)}\")"
   ]
  },
  {
   "cell_type": "code",
   "execution_count": null,
   "id": "52a518ac-5ae2-48ef-a1a2-bfe9bcee4fc2",
   "metadata": {},
   "outputs": [],
   "source": []
  }
 ],
 "metadata": {
  "kernelspec": {
   "display_name": "Python [conda env:base] *",
   "language": "python",
   "name": "conda-base-py"
  },
  "language_info": {
   "codemirror_mode": {
    "name": "ipython",
    "version": 3
   },
   "file_extension": ".py",
   "mimetype": "text/x-python",
   "name": "python",
   "nbconvert_exporter": "python",
   "pygments_lexer": "ipython3",
   "version": "3.12.7"
  }
 },
 "nbformat": 4,
 "nbformat_minor": 5
}
